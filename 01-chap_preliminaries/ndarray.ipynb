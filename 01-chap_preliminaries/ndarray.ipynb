{
 "cells": [
  {
   "cell_type": "markdown",
   "id": "0f2851c3-51af-49dd-85ac-fb3797dc4ad9",
   "metadata": {},
   "source": [
    "# 数据操作"
   ]
  },
  {
   "cell_type": "code",
   "execution_count": 2,
   "id": "1b6d7241-11aa-4344-b0af-086903a11a64",
   "metadata": {},
   "outputs": [],
   "source": [
    "import torch"
   ]
  },
  {
   "cell_type": "markdown",
   "id": "cc00bec2-195f-41f7-b780-04e1e2c25f69",
   "metadata": {},
   "source": [
    "[张量表示一个由数值组成的数组，这个数组可能有多个维度]。\n",
    "具有一个轴的张量对应数学上的向量（vector）； 具有两个轴的张量对应数学上的矩阵（matrix）； 具有两个轴以上的张量没有特殊的数学名称。"
   ]
  },
  {
   "cell_type": "markdown",
   "id": "08b54dcd-3bdc-46a9-9c94-0d35b0b86f10",
   "metadata": {},
   "source": [
    "首先，我们可以使用 arange 创建一个行向量 x。这个行向量包含以0开始的前12个整数，它们默认创建为整数。也可指定创建类型为浮点数。张量中的每个值都称为张量的 元素（element）。例如，张量 x 中有 12 个元素。"
   ]
  },
  {
   "cell_type": "code",
   "execution_count": 3,
   "id": "5ef821a2-8393-4856-99ae-09dd7531b9ff",
   "metadata": {},
   "outputs": [
    {
     "data": {
      "text/plain": [
       "tensor([ 0,  1,  2,  3,  4,  5,  6,  7,  8,  9, 10, 11])"
      ]
     },
     "execution_count": 3,
     "metadata": {},
     "output_type": "execute_result"
    }
   ],
   "source": [
    "x = torch.arange(12)\n",
    "x"
   ]
  },
  {
   "cell_type": "markdown",
   "id": "e7bbf5b4-af96-4ef3-bec1-2aa34e6309d1",
   "metadata": {},
   "source": [
    "**<font color = blue >可以通过张量的shape属性来访问张量（沿每个轴的长度）的形状</font>**(和张量中元素的总数) 其实，**<font color = red>张量</font>** 就是向量。\n",
    "如果只想知道张量中元素的总数，即形状的所有元素乘积，可以检查它的大小（size）。 因为这里在处理的是一个向量，所以它的shape与它的size相同。"
   ]
  },
  {
   "cell_type": "code",
   "execution_count": 4,
   "id": "218ef307-bf91-400c-a0b8-9d434d70c09c",
   "metadata": {},
   "outputs": [
    {
     "data": {
      "text/plain": [
       "torch.Size([12])"
      ]
     },
     "execution_count": 4,
     "metadata": {},
     "output_type": "execute_result"
    }
   ],
   "source": [
    "x.shape"
   ]
  },
  {
   "cell_type": "markdown",
   "id": "6669d827-633e-4420-a1a9-62287c057bca",
   "metadata": {},
   "source": [
    "numel()函数：返回数组中元素的个数"
   ]
  },
  {
   "cell_type": "code",
   "execution_count": 5,
   "id": "7830b1e2-f82f-4d32-ba26-8ef5b4b9a402",
   "metadata": {},
   "outputs": [
    {
     "data": {
      "text/plain": [
       "12"
      ]
     },
     "execution_count": 5,
     "metadata": {},
     "output_type": "execute_result"
    }
   ],
   "source": [
    "x.numel()"
   ]
  },
  {
   "cell_type": "markdown",
   "id": "524c1fc8-8781-41a0-a448-1c7949202ab2",
   "metadata": {},
   "source": [
    "要想改变一个张量的形状而不改变元素数量和元素值，可以调用reshape函数。 例如，可以把张量x从形状为（12,）的行向量转换为形状为（3,4）的矩阵。 这个新的张量包含与转换前相同的值，但是它被看成一个3行4列的矩阵。 要重点说明一下，虽然张量的形状发生了改变，但其元素值并没有变。 注意，通过改变张量的形状，张量的大小不会改变。"
   ]
  },
  {
   "cell_type": "code",
   "execution_count": 6,
   "id": "3ddec58e-7132-4b1e-9a97-0f9f8a111400",
   "metadata": {},
   "outputs": [
    {
     "data": {
      "text/plain": [
       "tensor([[ 0,  1,  2,  3],\n",
       "        [ 4,  5,  6,  7],\n",
       "        [ 8,  9, 10, 11]])"
      ]
     },
     "execution_count": 6,
     "metadata": {},
     "output_type": "execute_result"
    }
   ],
   "source": [
    "X = x.reshape(3, 4)\n",
    "X"
   ]
  },
  {
   "cell_type": "markdown",
   "id": "f1dbfeac-682f-4bd5-9819-018ee3da95bd",
   "metadata": {},
   "source": [
    "我们不需要通过手动指定每个维度来改变形状。 也就是说，如果我们的目标形状是（高度,宽度）， 那么在知道宽度后，高度会被自动计算得出，不必我们自己做除法。 在上面的例子中，为了获得一个3行的矩阵，我们手动指定了它有3行和4列。 <mark style = ground-color:red>幸运的是，我们可以通过-1来调用此自动计算出维度的功能。</mark>\n",
    "<mark>即我们可以用x.reshape(-1,4)或x.reshape(3,-1)来取代x.reshape(3,4)<mark>\n",
    "\n",
    "有时，我们希望[使用全0、全1、其他常量，或者从特定分布中随机采样的数字]来初始化矩阵。 我们可以创建一个形状为（2,3,4）的张量，其中所有元素都设置为0。代码如下："
   ]
  },
  {
   "cell_type": "code",
   "execution_count": 7,
   "id": "98cba344-0ff8-495a-9f31-204a5b470c67",
   "metadata": {},
   "outputs": [
    {
     "data": {
      "text/plain": [
       "tensor([[[0., 0., 0., 0.],\n",
       "         [0., 0., 0., 0.],\n",
       "         [0., 0., 0., 0.]],\n",
       "\n",
       "        [[0., 0., 0., 0.],\n",
       "         [0., 0., 0., 0.],\n",
       "         [0., 0., 0., 0.]]])"
      ]
     },
     "execution_count": 7,
     "metadata": {},
     "output_type": "execute_result"
    }
   ],
   "source": [
    "torch.zeros((2, 3, 4))"
   ]
  },
  {
   "cell_type": "markdown",
   "id": "0cbea7ed-8d5a-4b13-8057-de9e16bb580a",
   "metadata": {},
   "source": [
    "同样，我们可以创建一个形状为(2,3,4)的张量，其中所有元素都设置为1。代码如下"
   ]
  },
  {
   "cell_type": "code",
   "execution_count": 8,
   "id": "3bfb9880-0fe3-4427-864d-6fe43efeb33e",
   "metadata": {},
   "outputs": [
    {
     "data": {
      "text/plain": [
       "tensor([[[1., 1., 1., 1.],\n",
       "         [1., 1., 1., 1.],\n",
       "         [1., 1., 1., 1.]],\n",
       "\n",
       "        [[1., 1., 1., 1.],\n",
       "         [1., 1., 1., 1.],\n",
       "         [1., 1., 1., 1.]]])"
      ]
     },
     "execution_count": 8,
     "metadata": {},
     "output_type": "execute_result"
    }
   ],
   "source": [
    "torch.ones((2, 3, 4))"
   ]
  },
  {
   "cell_type": "markdown",
   "id": "cfdd9977-025b-46b7-9b2b-e781b86776a1",
   "metadata": {},
   "source": [
    "有时我们想通过从某个特定的概率分布中随机采样来得到张量中每个元素的值。 例如，当我们构造数组来作为神经网络中的参数时，我们通常会**随机初始化参数**的值。 以下代码创建一个形状为（3,4）的张量。 <mark>其中的每个元素都从均值为0、标准差为1的标准高斯分布（正态分布）中随机采样<mark>"
   ]
  },
  {
   "cell_type": "code",
   "execution_count": 9,
   "id": "3b450858-8da9-49cc-b085-deef7fd49aa8",
   "metadata": {},
   "outputs": [
    {
     "data": {
      "text/plain": [
       "tensor([[-0.9303,  1.9429, -0.3158, -0.3542],\n",
       "        [ 0.5724,  1.0544, -1.1438, -0.3441],\n",
       "        [ 0.8771, -0.2302,  0.4568, -0.5142]])"
      ]
     },
     "execution_count": 9,
     "metadata": {},
     "output_type": "execute_result"
    }
   ],
   "source": [
    "torch.randn(3, 4)"
   ]
  },
  {
   "cell_type": "markdown",
   "id": "f80fa023-6405-426d-a6c8-007af43bdb0e",
   "metadata": {},
   "source": [
    "我们还可以[通过提供包含数值的Python列表（或嵌套列表），来为所需张量中的每个元素赋予确定值]。 在这里，最外层的列表对应于轴0，内层的列表对应于轴1。"
   ]
  },
  {
   "cell_type": "code",
   "execution_count": 11,
   "id": "1030b168-3a37-4335-8927-662a67156d9e",
   "metadata": {},
   "outputs": [
    {
     "data": {
      "text/plain": [
       "tensor([[2, 1, 4, 3],\n",
       "        [1, 2, 3, 4],\n",
       "        [4, 3, 2, 1]])"
      ]
     },
     "execution_count": 11,
     "metadata": {},
     "output_type": "execute_result"
    }
   ],
   "source": [
    "torch.tensor([[2, 1, 4, 3], [1, 2, 3, 4], [4, 3, 2, 1]])"
   ]
  },
  {
   "cell_type": "markdown",
   "id": "3e4bf2fd-c798-404d-9c35-15b188e2f669",
   "metadata": {},
   "source": [
    "## 运算符"
   ]
  },
  {
   "cell_type": "markdown",
   "id": "1ad4671a-8fdb-4bbb-8b2c-77241603cfb0",
   "metadata": {},
   "source": [
    "我们的兴趣不仅限于读取数据和写入数据。\n",
    "我们想在这些数据上执行**数学运算**，其中最简单且最有用的操作是<mark>按元素（elementwise）运算</mark>。\n",
    "它们将标准标量运算符应用于数组的每个元素。\n",
    "对于将两个数组作为输入的函数，按元素运算将二元运算符应用于两个数组中的每对位置对应的元素。\n",
    "我们可以基于任何从标量到标量的函数来创建按元素函数。\n",
    "\n",
    "在数学表示法中，我们将通过符号$f: \\mathbb{R} \\rightarrow \\mathbb{R}$\n",
    "来表示*一元*标量运算符（只接收一个输入）。\n",
    "这意味着该函数从任何实数（$\\mathbb{R}$）映射到另一个实数。\n",
    "同样，我们通过符号$f: \\mathbb{R}, \\mathbb{R} \\rightarrow \\mathbb{R}$\n",
    "表示*二元*标量运算符，这意味着该函数接收两个输入，并产生一个输出。\n",
    "给定同一形状的任意两个向量$\\mathbf{u}$和$\\mathbf{v}$和二元运算符$f$，\n",
    "我们可以得到向量$\\mathbf{c} = F(\\mathbf{u},\\mathbf{v})$。\n",
    "具体计算方法是$c_i \\gets f(u_i, v_i)$，\n",
    "其中$c_i$、$u_i$和$v_i$分别是向量$\\mathbf{c}$、$\\mathbf{u}$和$\\mathbf{v}$中的元素。\n",
    "在这里，我们通过将标量函数升级为按元素向量运算来生成向量值\n",
    "$F: \\mathbb{R}^d, \\mathbb{R}^d \\rightarrow \\mathbb{R}^d$。\n",
    "\n",
    "对于任意具有相同形状的张量，\n",
    "**<font color = teal> 常见的标准算术运算符（`+`、`-`、`*`、`/`和`**`）都可以被升级为按元素运算 </font>**。\n",
    "我们可以在同一形状的任意两个张量上调用按元素操作。\n",
    "在下面的例子中，我们使用逗号来表示一个具有5个元素的元组，其中每个元素都是按元素操作的结果。\n"
   ]
  }
 ],
 "metadata": {
  "kernelspec": {
   "display_name": "Python 3 (ipykernel)",
   "language": "python",
   "name": "python3"
  },
  "language_info": {
   "codemirror_mode": {
    "name": "ipython",
    "version": 3
   },
   "file_extension": ".py",
   "mimetype": "text/x-python",
   "name": "python",
   "nbconvert_exporter": "python",
   "pygments_lexer": "ipython3",
   "version": "3.12.2"
  }
 },
 "nbformat": 4,
 "nbformat_minor": 5
}
